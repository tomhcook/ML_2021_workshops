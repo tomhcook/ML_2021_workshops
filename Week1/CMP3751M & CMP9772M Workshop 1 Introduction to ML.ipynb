{
 "cells": [
  {
   "cell_type": "markdown",
   "metadata": {},
   "source": [
    "Machine Learning 2021 - 2022 <br>\n",
    "Week 1 - Workshop on Python preliminaries <br>\n",
    "Lecturer: Dr Bashir Al-Diri <br>\n",
    "\n",
    "# INTRODUCTION <br>\n",
    "\n",
    "As we discussed during the lecture this week is devoted on introducing the module and you having the chance to (re) visit some basic principles on python. It also provide you with an introduction to Anaconda and the use of notebook for writing code interactively.\n",
    "There exists a set of simple examples on numpy. Please try to solve as many as you can. \n",
    "Solutions will be provided separately.\n",
    "\n",
    "\n",
    "# EXERCISE\n",
    "\n",
    "Please try to fill the gaps in the code below"
   ]
  },
  {
   "cell_type": "code",
   "execution_count": 47,
   "metadata": {},
   "outputs": [
    {
     "name": "stdout",
     "output_type": "stream",
     "text": [
      "1.21.2\n"
     ]
    }
   ],
   "source": [
    "#Import numpy as np and print the version number\n",
    "#####\n",
    "\n",
    "#Insert your code here\n",
    "#import number\n",
    "import numpy as np\n",
    "#print version number\n",
    "print(np.__version__)\n",
    "#np version 1.21.\n",
    "#####"
   ]
  },
  {
   "cell_type": "code",
   "execution_count": 48,
   "metadata": {},
   "outputs": [
    {
     "name": "stdout",
     "output_type": "stream",
     "text": [
      "[0, 1, 2, 3, 4, 5, 6, 7, 8]\n"
     ]
    }
   ],
   "source": [
    "#Create a 1D array of numbers from 0 to 8\n",
    "\n",
    "#####\n",
    "\n",
    "\n",
    "#Insert your code here\n",
    "##create array of 0 to 9\n",
    "oneD = list(range(0,9))\n",
    "#print array out\n",
    "print (oneD)\n",
    "\n",
    "#####"
   ]
  },
  {
   "cell_type": "code",
   "execution_count": 49,
   "metadata": {},
   "outputs": [
    {
     "name": "stdout",
     "output_type": "stream",
     "text": [
      "[[True, True, True, True, True], [True, True, True, True, True], [True, True, True, True, True], [True, True, True, True, True], [True, True, True, True, True]]\n"
     ]
    }
   ],
   "source": [
    " #Create a 5×5 numpy array of all True’s\n",
    "\n",
    "#####\n",
    "\n",
    "\n",
    "#Insert your code here\n",
    "#create table\n",
    "table = []\n",
    "#for 5 rows\n",
    "for r in range(5):\n",
    "  row = []\n",
    "  #for 5 collums\n",
    "  for c in range(5):\n",
    "      #set value true\n",
    "    row.append(True)\n",
    "  #set value in row\n",
    "  table.append(row)\n",
    "\n",
    "#print\n",
    "print(table)\n",
    "\n",
    "#####"
   ]
  },
  {
   "cell_type": "code",
   "execution_count": 50,
   "metadata": {},
   "outputs": [
    {
     "name": "stdout",
     "output_type": "stream",
     "text": [
      "[0 2 4 6 8]\n"
     ]
    }
   ],
   "source": [
    "#Extract all even numbers from arr\n",
    "#####\n",
    "\n",
    "\n",
    "arr = np.array([0, 1, 2, 3, 4, 5, 6, 7, 8, 9])\n",
    "\n",
    "#Insert your code here\n",
    "arr = arr[arr%2==0]\n",
    "\n",
    "print (arr)\n",
    "#####"
   ]
  },
  {
   "cell_type": "code",
   "execution_count": 51,
   "metadata": {},
   "outputs": [
    {
     "name": "stdout",
     "output_type": "stream",
     "text": [
      "[ 1 -3  3 -3  5 -3  7 -3  9]\n"
     ]
    }
   ],
   "source": [
    "#Replace all even numbers in arr with -3\n",
    "#####\n",
    "\n",
    "arr = np.array([1, 2, 3, 4, 5, 6, 7, 8, 9])\n",
    "#Insert your code here\n",
    "arr[arr%2==0] = -3\n",
    "\n",
    "print (arr)\n",
    "#####"
   ]
  },
  {
   "cell_type": "code",
   "execution_count": 64,
   "metadata": {},
   "outputs": [
    {
     "name": "stdout",
     "output_type": "stream",
     "text": [
      "[[1 2 3]\n",
      " [4 5 6]\n",
      " [7 8 9]]\n"
     ]
    }
   ],
   "source": [
    "#Convert a 1D array to a 2D array with 2 rows\n",
    "#####\n",
    "\n",
    "\n",
    "#Insert your code here\n",
    "\n",
    "arr = np.array([1, 2, 3, 4, 5, 6, 7, 8, 9])\n",
    "arr = np.reshape(arr, (3,3))\n",
    "print (arr)\n",
    "#####"
   ]
  },
  {
   "cell_type": "code",
   "execution_count": 53,
   "metadata": {
    "scrolled": true
   },
   "outputs": [
    {
     "data": {
      "text/plain": "array([[0, 1, 2, 3, 4],\n       [5, 6, 7, 8, 9],\n       [1, 1, 1, 1, 1],\n       [1, 1, 1, 1, 1]])"
     },
     "execution_count": 53,
     "metadata": {},
     "output_type": "execute_result"
    }
   ],
   "source": [
    "#Stack arrays a and b vertically\n",
    "\n",
    "#####\n",
    "import numpy as np\n",
    "a = np.arange(10).reshape(2,-1)\n",
    "b = np.repeat(1, 10).reshape(2,-1)\n",
    "#Insert your code here\n",
    "np.vstack((a,b))\n",
    "\n",
    "#####"
   ]
  },
  {
   "cell_type": "code",
   "execution_count": 54,
   "metadata": {},
   "outputs": [
    {
     "data": {
      "text/plain": "array([[0, 1, 2, 3, 4, 1, 1, 1, 1, 1],\n       [5, 6, 7, 8, 9, 1, 1, 1, 1, 1]])"
     },
     "execution_count": 54,
     "metadata": {},
     "output_type": "execute_result"
    }
   ],
   "source": [
    "#Stack arrays a and b horizontally\n",
    "\n",
    "#####\n",
    "\n",
    "import numpy as np\n",
    "a = np.arange(10).reshape(2,-1)\n",
    "b = np.repeat(1, 10).reshape(2,-1)\n",
    "#Insert your code here\n",
    "np.hstack((a,b))\n",
    "\n",
    "#####"
   ]
  },
  {
   "cell_type": "code",
   "execution_count": 55,
   "metadata": {},
   "outputs": [],
   "source": [
    "#Get the common items between a and b\n",
    "\n",
    "#####\n",
    "a = np.array([1,2,3,2,3,4,3,4,5,6])\n",
    "b = np.array([7,2,10,2,7,4,9,4,9,8])\n",
    "\n",
    "#Insert your code here\n",
    "\n",
    "print(np.intersect1d(a,b))\n",
    "#####"
   ]
  },
  {
   "cell_type": "code",
   "execution_count": 67,
   "metadata": {},
   "outputs": [
    {
     "name": "stdout",
     "output_type": "stream",
     "text": [
      "[1 2 3 4]\n"
     ]
    }
   ],
   "source": [
    "#From array a remove all items present in array b\n",
    "\n",
    "#####\n",
    "\n",
    "a = np.array([1,2,3,4,5])\n",
    "b = np.array([5,6,7,8,9])\n",
    "#Insert your code here\n",
    "a = np.setdiff1d(a, np.intersect1d(a,b))\n",
    "print(a)\n",
    "# Desired Output array([1,2,3,4])\n",
    "#####"
   ]
  },
  {
   "cell_type": "code",
   "execution_count": 70,
   "metadata": {},
   "outputs": [
    {
     "name": "stdout",
     "output_type": "stream",
     "text": [
      "(array([1, 3, 5, 7], dtype=int64),)\n"
     ]
    }
   ],
   "source": [
    "#Get the positions where elements of a and b match\n",
    "\n",
    "#####\n",
    "\n",
    "a = np.array([1,2,3,2,3,4,3,4,5,6])\n",
    "b = np.array([7,2,10,2,7,4,9,4,9,8])\n",
    "#Insert your code here\n",
    "print(np.where(a == b))\n",
    "# Desired Output (array([1, 3, 5, 7]),)\n",
    "\n",
    "#####"
   ]
  },
  {
   "cell_type": "code",
   "execution_count": 69,
   "metadata": {},
   "outputs": [
    {
     "name": "stdout",
     "output_type": "stream",
     "text": [
      "[6. 7. 9. 8. 9. 7. 5.]\n"
     ]
    },
    {
     "data": {
      "text/plain": "5"
     },
     "execution_count": 69,
     "metadata": {},
     "output_type": "execute_result"
    }
   ],
   "source": [
    "\n",
    "#Convert the function maxx that works on two scalars, to work on two arrays.\n",
    "\n",
    "\n",
    "#####\n",
    "\n",
    "def maxx(x, y):\n",
    "    \"\"\"Get the maximum of two items\"\"\"\n",
    "    if x >= y:\n",
    "        return x\n",
    "    else:\n",
    "        return y\n",
    "pair_max = np.vectorize(maxx, otypes=[float])\n",
    "\n",
    "a = np.array([5, 7, 9, 8, 6, 4, 5])\n",
    "b = np.array([6, 3, 4, 8, 9, 7, 1])\n",
    "\n",
    "print(pair_max(a, b))\n",
    "maxx(1, 5)\n",
    "\n",
    "# Desired Output \n",
    "#a = np.array([5, 7, 9, 8, 6, 4, 5])\n",
    "#b = np.array([6, 3, 4, 8, 9, 7, 1])\n",
    "#pair_max(a, b)\n",
    "# array([ 6.,  7.,  9.,  8.,  9.,  7.,  5.])\n",
    "\n",
    "#####\n",
    "\n"
   ]
  },
  {
   "cell_type": "code",
   "execution_count": 59,
   "metadata": {},
   "outputs": [
    {
     "data": {
      "text/plain": "array([[0, 1, 2],\n       [3, 4, 5],\n       [6, 7, 8]])"
     },
     "execution_count": 59,
     "metadata": {},
     "output_type": "execute_result"
    }
   ],
   "source": [
    "#How to swap two rows in a 2d numpy array?\n",
    "#Swap rows 1 and 2 in the array arr:\n",
    "\n",
    "arr = np.arange(9).reshape(3,3)\n",
    "arr\n",
    "print(arr[[1,0,2], :])\n",
    "#desired output\n",
    "#> array([[3, 4, 5],\n",
    "#>        [0, 1, 2],\n",
    "#>        [6, 7, 8]])\n",
    "\n",
    "####"
   ]
  },
  {
   "cell_type": "code",
   "execution_count": 71,
   "metadata": {},
   "outputs": [
    {
     "data": {
      "text/plain": "array([[0.782, 0.089, 0.976],\n       [0.301, 0.962, 0.349],\n       [0.363, 0.356, 0.279],\n       [0.82 , 0.323, 0.524]])"
     },
     "execution_count": 71,
     "metadata": {},
     "output_type": "execute_result"
    }
   ],
   "source": [
    "#Print or show only 4 decimal places of the numpy array rand_arr\n",
    "\n",
    "#Input included\n",
    "rand_arr = np.random.random((5,3))\n",
    "\n",
    "#Add the part here to create the random array\n",
    "\n",
    "rand_arr = np.random.random([5,3])\n",
    "\n",
    "# Limit the output to 4 decimal points\n",
    "\n",
    "np.set_printoptions(precision=4)\n",
    "rand_arr[:4]\n",
    "\n",
    "#desired output something of that sort\n",
    "#> array([[ 0.4783,  0.2209,  0.9993],\n",
    "#>        [ 0.3868,  0.1347,  0.2191],\n",
    "#>        [ 0.3491,  0.2374,  0.6212],\n",
    "#>        [ 0.8909,  0.4318,  0.4703]])"
   ]
  },
  {
   "cell_type": "code",
   "execution_count": 74,
   "metadata": {},
   "outputs": [
    {
     "name": "stdout",
     "output_type": "stream",
     "text": [
      "3.0540000000000003 3.0 0.4321465800705435\n"
     ]
    }
   ],
   "source": [
    "#Find the mean, median, standard deviation of iris's sepallength (1st column)\n",
    "url = 'https://archive.ics.uci.edu/ml/machine-learning-databases/iris/iris.data'\n",
    "iris = np.genfromtxt(url, delimiter=',', dtype='object')\n",
    "sepalwidth = np.genfromtxt(url, delimiter=',', dtype='float', usecols=[1])\n",
    "\n",
    "# add your code here\n",
    "mu, med, sd = np.mean(sepalwidth), np.median(sepalwidth), np.std(sepalwidth)\n",
    "print(mu, med, sd)\n",
    "#Output of that sort:\n",
    "#3.054 3.0 0.432146580071"
   ]
  },
  {
   "cell_type": "code",
   "execution_count": 76,
   "metadata": {},
   "outputs": [
    {
     "name": "stdout",
     "output_type": "stream",
     "text": [
      "[0.625 0.417 0.5   0.458 0.667 0.792 0.583 0.583 0.375 0.458 0.708 0.583\n",
      " 0.417 0.417 0.833 1.    0.792 0.625 0.75  0.75  0.583 0.708 0.667 0.542\n",
      " 0.583 0.417 0.583 0.625 0.583 0.5   0.458 0.583 0.875 0.917 0.458 0.5\n",
      " 0.625 0.458 0.417 0.583 0.625 0.125 0.5   0.625 0.75  0.417 0.75  0.5\n",
      " 0.708 0.542 0.5   0.5   0.458 0.125 0.333 0.333 0.542 0.167 0.375 0.292\n",
      " 0.    0.417 0.083 0.375 0.375 0.458 0.417 0.292 0.083 0.208 0.5   0.333\n",
      " 0.208 0.333 0.375 0.417 0.333 0.417 0.375 0.25  0.167 0.167 0.292 0.292\n",
      " 0.417 0.583 0.458 0.125 0.417 0.208 0.25  0.417 0.25  0.125 0.292 0.417\n",
      " 0.375 0.375 0.208 0.333 0.542 0.292 0.417 0.375 0.417 0.417 0.208 0.375\n",
      " 0.208 0.667 0.5   0.292 0.417 0.208 0.333 0.5   0.417 0.75  0.25  0.083\n",
      " 0.5   0.333 0.333 0.292 0.542 0.5   0.333 0.417 0.333 0.417 0.333 0.75\n",
      " 0.333 0.333 0.25  0.417 0.583 0.458 0.417 0.458 0.458 0.458 0.292 0.5\n",
      " 0.542 0.417 0.208 0.417 0.583 0.417]\n"
     ]
    }
   ],
   "source": [
    "#Create a normalized form of iris's sepalwidth whose values range exactly between 0 and 1 so that the minimum has value 0 and maximum has value 1.\n",
    "url = 'https://archive.ics.uci.edu/ml/machine-learning-databases/iris/iris.data'\n",
    "sepalwidth = np.genfromtxt(url, delimiter=',', dtype='float', usecols=[1])\n",
    "\n",
    "# code here\n",
    "Smax, Smin = sepalwidth.max(), sepalwidth.min()\n",
    "S = (sepalwidth - Smin)/sepalwidth.ptp()\n",
    "print(S)\n",
    "#desired output\n",
    "#[ 0.625       0.41666667  0.5         0.45833333  0.66666667  0.79166667\n",
    "# 0.58333333  0.58333333  0.375       0.45833333  0.70833333  0.58333333\n",
    "#0.41666667  0.41666667  0.83333333  1.          0.79166667  0.625       0.75\n",
    "# 0.75        0.58333333  0.70833333  0.66666667  0.54166667  0.58333333\n",
    "# 0.41666667  0.58333333  0.625       0.58333333  0.5         0.45833333\n",
    "# 0.58333333  0.875       0.91666667  0.45833333  0.5         0.625\n",
    "#0.45833333  0.41666667  0.58333333  0.625       0.125       0.5         0.625\n",
    "#0.75        0.41666667  0.75        0.5         0.70833333  0.54166667\n",
    "#0.5         0.5         0.45833333  0.125       0.33333333  0.33333333\n",
    "#0.54166667  0.16666667  0.375       0.29166667  0.          0.41666667\n",
    "#0.08333333  0.375       0.375       0.45833333  0.41666667  0.29166667\n",
    "#0.08333333  0.20833333  0.5         0.33333333  0.20833333  0.33333333\n",
    "#0.375       0.41666667  0.33333333  0.41666667  0.375       0.25\n",
    "#0.16666667  0.16666667  0.29166667  0.29166667  0.41666667  0.58333333\n",
    "#0.45833333  0.125       0.41666667  0.20833333  0.25        0.41666667\n",
    "#0.25        0.125       0.29166667  0.41666667  0.375       0.375\n",
    "#0.20833333  0.33333333  0.54166667  0.29166667  0.41666667  0.375\n",
    "#0.41666667  0.41666667  0.20833333  0.375       0.20833333  0.66666667\n",
    "#0.5         0.29166667  0.41666667  0.20833333  0.33333333  0.5\n",
    "#0.41666667  0.75        0.25        0.08333333  0.5         0.33333333\n",
    "#0.33333333  0.29166667  0.54166667  0.5         0.33333333  0.41666667\n",
    "#0.33333333  0.41666667  0.33333333  0.75        0.33333333  0.33333333\n",
    "#0.25        0.41666667  0.58333333  0.45833333  0.41666667  0.45833333\n",
    "#0.45833333  0.45833333  0.29166667  0.5         0.54166667  0.41666667\n",
    "#0.20833333  0.41666667  0.58333333  0.41666667]\n"
   ]
  },
  {
   "cell_type": "code",
   "execution_count": 62,
   "metadata": {
    "collapsed": true
   },
   "outputs": [],
   "source": []
  }
 ],
 "metadata": {
  "kernelspec": {
   "display_name": "Python 3 (ipykernel)",
   "language": "python",
   "name": "python3"
  },
  "language_info": {
   "codemirror_mode": {
    "name": "ipython",
    "version": 3
   },
   "file_extension": ".py",
   "mimetype": "text/x-python",
   "name": "python",
   "nbconvert_exporter": "python",
   "pygments_lexer": "ipython3",
   "version": "3.8.10"
  }
 },
 "nbformat": 4,
 "nbformat_minor": 2
}